{
 "cells": [
  {
   "cell_type": "markdown",
   "metadata": {},
   "source": [
    "Imports"
   ]
  },
  {
   "cell_type": "code",
   "execution_count": 10,
   "metadata": {},
   "outputs": [],
   "source": [
    "import pickle\n",
    "\n",
    "import pandas as pd\n",
    "import numpy as np\n",
    "\n",
    "import json\n",
    "from random import randint\n",
    "from time import sleep\n",
    "\n",
    "import spotipy\n",
    "from spotipy.oauth2 import SpotifyClientCredentials\n",
    "\n",
    "from sklearn.preprocessing import StandardScaler\n",
    "from sklearn.cluster import KMeans\n",
    "\n",
    "from sklearn.cluster import DBSCAN\n",
    "from sklearn.neighbors import NearestNeighbors\n",
    "\n",
    "from sklearn import cluster"
   ]
  },
  {
   "cell_type": "markdown",
   "metadata": {},
   "source": [
    "Read files"
   ]
  },
  {
   "cell_type": "code",
   "execution_count": 53,
   "metadata": {},
   "outputs": [],
   "source": [
    "spotify = pd.read_csv('spotify.csv')\n",
    "top_lists = pd.read_csv('top_lists.csv')"
   ]
  },
  {
   "cell_type": "code",
   "execution_count": 45,
   "metadata": {},
   "outputs": [],
   "source": [
    "std = pickle.load(open('std.p', 'rb'))\n",
    "kmeans = pickle.load(open('kmeans.p', 'rb'))\n",
    "# pred_ward = pickle.load(open('pred_ward.p', 'rb')) #These won't work ATM so i'll keep on working just with kmeans\n",
    "# pred_complete = pickle.load(open('pred_complete.p', 'rb'))\n",
    "# pred_average = pickle.load(open('pred_average.p', 'rb'))\n",
    "# dbscan_opt = pickle.load(open('dbscan_opt.p', 'rb'))"
   ]
  },
  {
   "cell_type": "markdown",
   "metadata": {},
   "source": [
    "Functions"
   ]
  },
  {
   "cell_type": "code",
   "execution_count": 20,
   "metadata": {},
   "outputs": [],
   "source": [
    "def song_uri(song):\n",
    "    q='track:'+ song# +'&artist:'+ artists\n",
    "    uri = sp.search(q=q, limit=1)['tracks']['items'][0]['uri']\n",
    "\n",
    "    return uri\n",
    "\n",
    "def find_features(uri):\n",
    "    try:\n",
    "        features = sp.audio_features(uri)\n",
    "    except:\n",
    "        features = 0\n",
    "    return features\n",
    "\n",
    "def is_in_top(top_lists=top_lists):\n",
    "    print('Please, write your song')\n",
    "    name = input()\n",
    "\n",
    "    songs = pd.Series(top_lists.song)\n",
    "\n",
    "    flag = name in songs.unique()\n",
    "\n",
    "    return flag, name\n",
    "\n",
    "def top_reccomendation(name, top_lists=top_lists):\n",
    "    l = len(top_lists)\n",
    "    i = randint(0, l)\n",
    "    while top_lists['song'][i] == name:\n",
    "        i = randint(0, l)\n",
    "\n",
    "    song = top_lists['song'][i]\n",
    "    artist = top_lists['artist'][i]\n",
    "\n",
    "    return song, artist\n",
    "\n",
    "def recomend_v1(top_lists=top_lists):\n",
    "    flag,name =  is_in_top(top_lists)\n",
    "\n",
    "    if flag:\n",
    "        song, artist = top_reccomendation(name)\n",
    "        print('You can listen to ' + song + ' by ' + artist)\n",
    "    else:\n",
    "        print('Your song is not in the database')\n",
    "\n"
   ]
  },
  {
   "cell_type": "markdown",
   "metadata": {},
   "source": [
    "Initialize"
   ]
  },
  {
   "cell_type": "code",
   "execution_count": 13,
   "metadata": {},
   "outputs": [],
   "source": [
    "secrets_file = open(\"SpotifySecret.txt\",\"r\")\n",
    "string = secrets_file.read()\n",
    "secret_string = string.split('\\n')\n",
    "\n",
    "secrets_dict={}\n",
    "for line in secret_string:\n",
    "    if len(line) > 0:\n",
    "        secrets_dict[line.split(':')[0]]=line.split(':')[1]\n",
    "\n",
    "sp = spotipy.Spotify(auth_manager=SpotifyClientCredentials(client_id=secrets_dict['cid'],\n",
    "                                                           client_secret=secrets_dict['cs']))"
   ]
  },
  {
   "cell_type": "markdown",
   "metadata": {},
   "source": [
    "New MVP"
   ]
  },
  {
   "cell_type": "code",
   "execution_count": 80,
   "metadata": {},
   "outputs": [],
   "source": [
    "def recommender(spotify=spotify, tops=top_lists, std=std, kmeans=kmeans):\n",
    "    flag,name =  is_in_top(tops)\n",
    "\n",
    "    if flag:\n",
    "        #If song in top list, returns another one\n",
    "        song, artist = top_reccomendation(name)\n",
    "\n",
    "    else:\n",
    "        # Clustering\n",
    "        uri = song_uri(name) #Needs treatment if not found\n",
    "        features = pd.DataFrame(find_features(uri))\n",
    "        features.drop(['type', 'id', 'uri', 'track_href', 'analysis_url'], axis=1, inplace=True)\n",
    "        cols = features.columns\n",
    "        features_t = std.transform(features)\n",
    "        features_std = pd.DataFrame(features_t,columns=cols)\n",
    "\n",
    "        cluster = kmeans.predict(features_std)[0]\n",
    "        sublist = spotify.loc[spotify['kmeans_cluster'] == cluster][['song', 'artist', 'uri']].reset_index(drop=True)\n",
    "        i = randint(0, len(sublist)-1)\n",
    "\n",
    "        song = sublist['song'][i]\n",
    "        artist = sublist['artist'][i]\n",
    "        link = sublist['uri'][i]\n",
    "\n",
    "    print('You can listen to \"' + song + '\" by ' + artist)\n",
    "    print(link)\n",
    "\n",
    "        \n",
    "        \n",
    "\n"
   ]
  },
  {
   "cell_type": "code",
   "execution_count": 81,
   "metadata": {},
   "outputs": [
    {
     "name": "stdout",
     "output_type": "stream",
     "text": [
      "Please, write your song\n",
      "You can listen to \"Rapid Firecannon\" by ['Pentakill']\n",
      "spotify:track:5hTFEOZrnKjDQJUBeJ19Mp\n"
     ]
    },
    {
     "name": "stderr",
     "output_type": "stream",
     "text": [
      "C:\\Users\\carlo\\anaconda3\\lib\\site-packages\\sklearn\\base.py:443: UserWarning: X has feature names, but KMeans was fitted without feature names\n",
      "  warnings.warn(\n"
     ]
    }
   ],
   "source": [
    "recommender()"
   ]
  }
 ],
 "metadata": {
  "interpreter": {
   "hash": "5f23c331dcc0e959a18d97d72b32723b8e8fefc4a029dc171226f15b89161c30"
  },
  "kernelspec": {
   "display_name": "Python 3.9.7 ('base')",
   "language": "python",
   "name": "python3"
  },
  "language_info": {
   "codemirror_mode": {
    "name": "ipython",
    "version": 3
   },
   "file_extension": ".py",
   "mimetype": "text/x-python",
   "name": "python",
   "nbconvert_exporter": "python",
   "pygments_lexer": "ipython3",
   "version": "3.9.7"
  },
  "orig_nbformat": 4
 },
 "nbformat": 4,
 "nbformat_minor": 2
}
